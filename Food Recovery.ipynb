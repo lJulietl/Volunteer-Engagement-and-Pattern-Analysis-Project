{
 "cells": [
  {
   "cell_type": "code",
   "execution_count": 2,
   "id": "3218d0d8-b086-4c7d-8e92-64c9077282a2",
   "metadata": {},
   "outputs": [],
   "source": [
    "import pandas as pd"
   ]
  },
  {
   "cell_type": "code",
   "execution_count": 4,
   "id": "2b0e5dfe-1173-4edb-adf3-e9938bbe6866",
   "metadata": {},
   "outputs": [],
   "source": [
    "tracking = pd.read_csv('FoodTracking.csv')"
   ]
  },
  {
   "cell_type": "code",
   "execution_count": 28,
   "id": "a6310d99-b00e-445a-81ce-6ca7060888a6",
   "metadata": {},
   "outputs": [],
   "source": [
    "def weekSelector(tracking):\n",
    "    finals = tracking.iloc[2:17,4:8]\n",
    "    week10 = tracking.iloc[2:17,8:12]\n",
    "    week9 = tracking.iloc[2:17,12:16]\n",
    "    week8 = tracking.iloc[2:17,16:20]\n",
    "    week7 = tracking.iloc[2:17,20:24]\n",
    "    week6 = tracking.iloc[2:17,24:28]\n",
    "    week5 = tracking.iloc[2:17,28:32]\n",
    "    week4 = tracking.iloc[2:17,32:36]\n",
    "    week3 = tracking.iloc[2:17,36:40]\n",
    "    week2 = tracking.iloc[2:17,40:44]\n",
    "    week1 = tracking.iloc[2:17,44:48]\n",
    "    week0 = tracking.iloc[2:17,48:52]\n",
    "    weekList = [week0, week1, week2, week3, week4, week5, week6, week7, week8, week9, week10, finals]\n",
    "    return weekList"
   ]
  },
  {
   "cell_type": "code",
   "execution_count": 130,
   "id": "8d401865-c840-4d8b-94a1-0cbda8ccee34",
   "metadata": {},
   "outputs": [],
   "source": [
    "def DC(week):\n",
    "    col = ['Shift', 'Week', 'Date', 'Position', 'Name', 'Attendance']\n",
    "    df = pd.DataFrame(columns = col)\n",
    "    shift = 'Dining Commons Recovery'\n",
    "    weekDay = week.iloc[0,0]\n",
    "    date = week.iloc[2,0]\n",
    "    test = week.iloc[2:16]\n",
    "    for i in range(4):\n",
    "        if not pd.isna(test.iloc[i,2]):\n",
    "            position = test.iloc[i,1]\n",
    "            name = test.iloc[i,2]\n",
    "            attendance = test.iloc[i,3]\n",
    "            if 'Volunteer' in str(position):\n",
    "                position = 'Volunteer'\n",
    "            entry = pd.DataFrame([[shift, weekDay, date, position, name, attendance]], columns = col)\n",
    "            df = pd.concat([df, entry])\n",
    "    return(df)"
   ]
  },
  {
   "cell_type": "code",
   "execution_count": 102,
   "id": "c0d68cf7-46e6-4de7-9bc4-01a7aaad22e5",
   "metadata": {},
   "outputs": [],
   "source": [
    "def DCFood(week):\n",
    "    col = ['Shift', 'Week', 'Date', 'Position', 'Name', 'Attendance']\n",
    "    df = pd.DataFrame(columns = col)\n",
    "    shift = 'DC Food Tray Portioning'\n",
    "    weekDay = week.iloc[0,0]\n",
    "    date = week.iloc[6,0]\n",
    "    test = week.iloc[6:16]\n",
    "    for i in range(4):\n",
    "        if not pd.isna(test.iloc[i,2]):\n",
    "            position = test.iloc[i,1]\n",
    "            name = test.iloc[i,2]\n",
    "            attendance = test.iloc[i,3]\n",
    "            if 'Volunteer' in str(position):\n",
    "                position = 'Volunteer'\n",
    "            entry = pd.DataFrame([[shift, weekDay, date, position, name, attendance]], columns = col)\n",
    "            df = pd.concat([df, entry])\n",
    "    return(df)"
   ]
  },
  {
   "cell_type": "code",
   "execution_count": 144,
   "id": "7903e11a-8ccb-4bbd-934e-80e0ed686fa3",
   "metadata": {},
   "outputs": [],
   "source": [
    "def farmers(week):\n",
    "    col = ['Shift', 'Week', 'Date', 'Position', 'Name', 'Attendance']\n",
    "    df = pd.DataFrame(columns = col)\n",
    "    shift = 'Farmers Market Recovery + Distribution'\n",
    "    weekDay = week.iloc[0,0]\n",
    "    date = week.iloc[11,0]\n",
    "    test = week.iloc[11:16]\n",
    "    for i in range(4):\n",
    "        if not pd.isna(test.iloc[i,2]):\n",
    "            position = test.iloc[i,1]\n",
    "            name = test.iloc[i,2]\n",
    "            attendance = test.iloc[i,3]\n",
    "            if 'Volunteer' in str(position):\n",
    "                position = 'Volunteer'\n",
    "            entry = pd.DataFrame([[shift, weekDay, date, position, name, attendance]], columns = col)\n",
    "            df = pd.concat([df, entry])\n",
    "    return(df)"
   ]
  },
  {
   "cell_type": "code",
   "execution_count": 148,
   "id": "0cee2eec-ecc5-4e5c-8d57-4f916394d655",
   "metadata": {},
   "outputs": [],
   "source": [
    "def foodDf(tracking):\n",
    "    col = ['Shift', 'Week', 'Date', 'Position', 'Name', 'Attendance']\n",
    "    df = pd.DataFrame(columns = col)\n",
    "    weeks = weekSelector(tracking)\n",
    "    for i in weeks:\n",
    "        dc = DC(i)\n",
    "        Food = DCFood(i)\n",
    "        Farmers = farmers(i)\n",
    "        df = pd.concat([df, dc, Food, Farmers])\n",
    "        df = df[~df['Date'].astype(str).str.contains('Canceled', na=False)]\n",
    "        df.to_csv('Food Recovery', index=False)\n",
    "    return(df)\n",
    "        "
   ]
  },
  {
   "cell_type": "code",
   "execution_count": 149,
   "id": "54a8128f-0941-4fcc-ad19-747d05cb0ac4",
   "metadata": {},
   "outputs": [],
   "source": [
    "test = foodDf(tracking)"
   ]
  }
 ],
 "metadata": {
  "kernelspec": {
   "display_name": "Python 3 (ipykernel)",
   "language": "python",
   "name": "python3"
  },
  "language_info": {
   "codemirror_mode": {
    "name": "ipython",
    "version": 3
   },
   "file_extension": ".py",
   "mimetype": "text/x-python",
   "name": "python",
   "nbconvert_exporter": "python",
   "pygments_lexer": "ipython3",
   "version": "3.11.5"
  }
 },
 "nbformat": 4,
 "nbformat_minor": 5
}
